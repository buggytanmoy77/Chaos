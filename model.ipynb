{
  "nbformat": 4,
  "nbformat_minor": 0,
  "metadata": {
    "colab": {
      "provenance": [],
      "gpuType": "T4",
      "authorship_tag": "ABX9TyM8tBCRh9n8qIm0Vay1YnWZ",
      "include_colab_link": true
    },
    "kernelspec": {
      "name": "python3",
      "display_name": "Python 3"
    },
    "language_info": {
      "name": "python"
    },
    "accelerator": "GPU"
  },
  "cells": [
    {
      "cell_type": "markdown",
      "metadata": {
        "id": "view-in-github",
        "colab_type": "text"
      },
      "source": [
        "<a href=\"https://colab.research.google.com/github/buggytanmoy77/Chaos/blob/main/model.ipynb\" target=\"_parent\"><img src=\"https://colab.research.google.com/assets/colab-badge.svg\" alt=\"Open In Colab\"/></a>"
      ]
    },
    {
      "cell_type": "markdown",
      "source": [
        "## Installation of necessary libraries and tools"
      ],
      "metadata": {
        "id": "p_050_5fzKyr"
      }
    },
    {
      "cell_type": "code",
      "execution_count": null,
      "metadata": {
        "id": "hYOyWMhhwteL"
      },
      "outputs": [],
      "source": [
        "!pip install -q diffusers transformers accelerate torch xformers\n",
        "!pip install -q clip-interrogator safetensors huggingface_hub\n",
        "!pip install -q git+https://github.com/huggingface/transformers.git"
      ]
    },
    {
      "cell_type": "markdown",
      "source": [
        "## Setting up CLIP"
      ],
      "metadata": {
        "id": "aDa_6DLM0QL-"
      }
    },
    {
      "cell_type": "code",
      "source": [
        "!pip install --upgrade torchvision\n",
        "!pip install clip-interrogator==0.6.0\n",
        "\n",
        "from PIL import Image\n",
        "from clip_interrogator import Config, Interrogator\n",
        "\n",
        "ci = Interrogator(Config(\n",
        "    clip_model_name=\"ViT-L-14/openai\",\n",
        "    device=\"cuda\"\n",
        "))\n",
        "\n",
        "def get_prompt(image_path):\n",
        "    image = Image.open(image_path).convert(\"RGB\")\n",
        "    return ci.interrogate(image)"
      ],
      "metadata": {
        "id": "h-icyZtU0WaW"
      },
      "execution_count": null,
      "outputs": []
    },
    {
      "cell_type": "markdown",
      "source": [
        "## Download and Initialization of SD model"
      ],
      "metadata": {
        "id": "0pIDYkXD1E97"
      }
    },
    {
      "cell_type": "code",
      "source": [
        "!wget https://civitai.com/api/download/models/128713 -O custom_model.safetensors\n",
        "\n",
        "from diffusers import StableDiffusionPipeline\n",
        "import torch\n",
        "\n",
        "pipe = StableDiffusionPipeline.from_single_file(\n",
        "    \"custom_model.safetensors\",\n",
        "    torch_dtype=torch.float16,\n",
        "    safety_checker=None\n",
        ").to(\"cuda\")"
      ],
      "metadata": {
        "id": "NAWAvXQB1M1V"
      },
      "execution_count": null,
      "outputs": []
    },
    {
      "cell_type": "markdown",
      "source": [
        "## Extracting Prompts from Image Files"
      ],
      "metadata": {
        "id": "nQltcqxs2Lex"
      }
    },
    {
      "cell_type": "code",
      "source": [
        "image_paths = [\n",
        "    \"/content/test_img1.jpg\",\n",
        "    \"/content/test_img2.jpg\"\n",
        "]\n",
        "\n",
        "prompts = [get_prompt(path) for path in image_paths]\n",
        "print(\"\\nExtracted Prompts:\", prompts)"
      ],
      "metadata": {
        "id": "Hsbfc5u72OGM"
      },
      "execution_count": null,
      "outputs": []
    },
    {
      "cell_type": "markdown",
      "source": [
        "## Combining and Summarizing Image Prompts Using Transformers"
      ],
      "metadata": {
        "id": "v0sxhI2k87w3"
      }
    },
    {
      "cell_type": "code",
      "source": [
        "!pip install transformers\n",
        "from transformers import pipeline\n",
        "\n",
        "summarizer = pipeline(\"summarization\", model=\"facebook/bart-large-cnn\")\n",
        "combined_prompts = \" AND \".join([\n",
        "    f\"({prompt})\" for prompt in prompts\n",
        "])\n",
        "\n",
        "summary = summarizer(combined_prompts, max_length=72, min_length=30, do_sample=False)[0]['summary_text']\n",
        "summary = summary + \", best quality, high resolution,\"\n",
        "print(\"Combined and Summarized Prompt:\")\n",
        "print(summary)"
      ],
      "metadata": {
        "colab": {
          "base_uri": "https://localhost:8080/"
        },
        "id": "fMXRV3k39WE9",
        "outputId": "85e8c201-beff-4984-b555-f42d0bf5271a"
      },
      "execution_count": 7,
      "outputs": [
        {
          "output_type": "stream",
          "name": "stdout",
          "text": [
            "Requirement already satisfied: transformers in /usr/local/lib/python3.11/dist-packages (4.48.3)\n",
            "Requirement already satisfied: filelock in /usr/local/lib/python3.11/dist-packages (from transformers) (3.17.0)\n",
            "Requirement already satisfied: huggingface-hub<1.0,>=0.24.0 in /usr/local/lib/python3.11/dist-packages (from transformers) (0.28.1)\n",
            "Requirement already satisfied: numpy>=1.17 in /usr/local/lib/python3.11/dist-packages (from transformers) (1.26.4)\n",
            "Requirement already satisfied: packaging>=20.0 in /usr/local/lib/python3.11/dist-packages (from transformers) (24.2)\n",
            "Requirement already satisfied: pyyaml>=5.1 in /usr/local/lib/python3.11/dist-packages (from transformers) (6.0.2)\n",
            "Requirement already satisfied: regex!=2019.12.17 in /usr/local/lib/python3.11/dist-packages (from transformers) (2024.11.6)\n",
            "Requirement already satisfied: requests in /usr/local/lib/python3.11/dist-packages (from transformers) (2.32.3)\n",
            "Requirement already satisfied: tokenizers<0.22,>=0.21 in /usr/local/lib/python3.11/dist-packages (from transformers) (0.21.0)\n",
            "Requirement already satisfied: safetensors>=0.4.1 in /usr/local/lib/python3.11/dist-packages (from transformers) (0.5.2)\n",
            "Requirement already satisfied: tqdm>=4.27 in /usr/local/lib/python3.11/dist-packages (from transformers) (4.67.1)\n",
            "Requirement already satisfied: fsspec>=2023.5.0 in /usr/local/lib/python3.11/dist-packages (from huggingface-hub<1.0,>=0.24.0->transformers) (2024.10.0)\n",
            "Requirement already satisfied: typing-extensions>=3.7.4.3 in /usr/local/lib/python3.11/dist-packages (from huggingface-hub<1.0,>=0.24.0->transformers) (4.12.2)\n",
            "Requirement already satisfied: charset-normalizer<4,>=2 in /usr/local/lib/python3.11/dist-packages (from requests->transformers) (3.4.1)\n",
            "Requirement already satisfied: idna<4,>=2.5 in /usr/local/lib/python3.11/dist-packages (from requests->transformers) (3.10)\n",
            "Requirement already satisfied: urllib3<3,>=1.21.1 in /usr/local/lib/python3.11/dist-packages (from requests->transformers) (2.3.0)\n",
            "Requirement already satisfied: certifi>=2017.4.17 in /usr/local/lib/python3.11/dist-packages (from requests->transformers) (2025.1.31)\n"
          ]
        },
        {
          "output_type": "stream",
          "name": "stderr",
          "text": [
            "Device set to use cuda:0\n"
          ]
        },
        {
          "output_type": "stream",
          "name": "stdout",
          "text": [
            "Combined and Summarized Prompt:\n",
            "Images include a man in a white robe standing in a corridor, arches adorned pillars, on an indian street, royal palace, awnings, inspired by D. Howard Hitchcock., best quality, high resolution,\n"
          ]
        }
      ]
    }
  ]
}