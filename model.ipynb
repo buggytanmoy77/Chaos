{
  "nbformat": 4,
  "nbformat_minor": 0,
  "metadata": {
    "colab": {
      "provenance": [],
      "authorship_tag": "ABX9TyNopoUDn/LDtyWE9NKnmBL1",
      "include_colab_link": true
    },
    "kernelspec": {
      "name": "python3",
      "display_name": "Python 3"
    },
    "language_info": {
      "name": "python"
    }
  },
  "cells": [
    {
      "cell_type": "markdown",
      "metadata": {
        "id": "view-in-github",
        "colab_type": "text"
      },
      "source": [
        "<a href=\"https://colab.research.google.com/github/buggytanmoy77/Chaos/blob/main/model.ipynb\" target=\"_parent\"><img src=\"https://colab.research.google.com/assets/colab-badge.svg\" alt=\"Open In Colab\"/></a>"
      ]
    },
    {
      "cell_type": "markdown",
      "source": [
        "## Installation of necessary libraries and tools"
      ],
      "metadata": {
        "id": "p_050_5fzKyr"
      }
    },
    {
      "cell_type": "code",
      "execution_count": 2,
      "metadata": {
        "id": "hYOyWMhhwteL"
      },
      "outputs": [],
      "source": [
        "!pip install -q diffusers transformers accelerate torch xformers\n",
        "!pip install -q clip-interrogator safetensors huggingface_hub\n",
        "!pip install -q git+https://github.com/huggingface/transformers.git"
      ]
    },
    {
      "cell_type": "markdown",
      "source": [
        "## Setting up CLIP"
      ],
      "metadata": {
        "id": "aDa_6DLM0QL-"
      }
    },
    {
      "cell_type": "code",
      "source": [
        "!pip install clip-interrogator==0.6.0\n",
        "\n",
        "from PIL import Image\n",
        "from clip_interrogator import Config, Interrogator\n",
        "\n",
        "ci = Interrogator(Config(\n",
        "    clip_model_name=\"ViT-L-14/openai\",\n",
        "    device=\"cuda\"\n",
        "))\n",
        "\n",
        "def get_prompt(image_path):\n",
        "    image = Image.open(image_path).convert(\"RGB\")\n",
        "    return ci.interrogate(image)"
      ],
      "metadata": {
        "id": "h-icyZtU0WaW"
      },
      "execution_count": null,
      "outputs": []
    }
  ]
}