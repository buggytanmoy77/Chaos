{
  "nbformat": 4,
  "nbformat_minor": 0,
  "metadata": {
    "colab": {
      "provenance": [],
      "authorship_tag": "ABX9TyMh/hfv1VtN+tyOgtRIqMWF",
      "include_colab_link": true
    },
    "kernelspec": {
      "name": "python3",
      "display_name": "Python 3"
    },
    "language_info": {
      "name": "python"
    }
  },
  "cells": [
    {
      "cell_type": "markdown",
      "metadata": {
        "id": "view-in-github",
        "colab_type": "text"
      },
      "source": [
        "<a href=\"https://colab.research.google.com/github/buggytanmoy77/Chaos/blob/main/model.ipynb\" target=\"_parent\"><img src=\"https://colab.research.google.com/assets/colab-badge.svg\" alt=\"Open In Colab\"/></a>"
      ]
    },
    {
      "cell_type": "markdown",
      "source": [
        "## Installation of necessary libraries and tools"
      ],
      "metadata": {
        "id": "p_050_5fzKyr"
      }
    },
    {
      "cell_type": "code",
      "execution_count": 2,
      "metadata": {
        "id": "hYOyWMhhwteL"
      },
      "outputs": [],
      "source": [
        "!pip install -q diffusers transformers accelerate torch xformers\n",
        "!pip install -q clip-interrogator safetensors huggingface_hub\n",
        "!pip install -q git+https://github.com/huggingface/transformers.git"
      ]
    }
  ]
}